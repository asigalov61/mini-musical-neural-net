{
 "cells": [
  {
   "cell_type": "markdown",
   "metadata": {},
   "source": [
    "Compile selected composers piece into a single .txt file"
   ]
  },
  {
   "cell_type": "code",
   "execution_count": 1,
   "metadata": {},
   "outputs": [],
   "source": [
    "import os, glob"
   ]
  },
  {
   "cell_type": "code",
   "execution_count": 18,
   "metadata": {},
   "outputs": [
    {
     "name": "stdout",
     "output_type": "stream",
     "text": [
      "Wrote chopin\n",
      "Wrote beethoven\n",
      "Wrote schubert\n",
      "Wrote bach\n"
     ]
    }
   ],
   "source": [
    "in_folder = '../../notewise_piano_solo/note_range62/sample_freq12/*'\n",
    "\n",
    "out_folder = '../txt-files/notewise/custom/'\n",
    "\n",
    "composers = ['chopin', 'beethoven', 'schubert', 'bach']\n",
    "\n",
    "for folder in glob.glob(in_folder):\n",
    "    \n",
    "    if any(composer in folder for composer in composers):\n",
    "        \n",
    "        texts = ''\n",
    "        \n",
    "        for file in glob.glob(folder+'/*.txt'):\n",
    "            with open(file, 'r') as myfile:\n",
    "                text = myfile.read()\n",
    "                myfile.close()\n",
    "            texts = texts + ' ' + text\n",
    "            \n",
    "        print(\"Wrote\", folder[53:])\n",
    "            \n",
    "        f=open(out_folder + folder[53:] + \".txt\",\"w+\")\n",
    "        f.write(texts)\n",
    "        f.close()"
   ]
  },
  {
   "cell_type": "code",
   "execution_count": null,
   "metadata": {},
   "outputs": [],
   "source": []
  }
 ],
 "metadata": {
  "kernelspec": {
   "display_name": "Python 3",
   "language": "python",
   "name": "python3"
  },
  "language_info": {
   "codemirror_mode": {
    "name": "ipython",
    "version": 3
   },
   "file_extension": ".py",
   "mimetype": "text/x-python",
   "name": "python",
   "nbconvert_exporter": "python",
   "pygments_lexer": "ipython3",
   "version": "3.6.5"
  }
 },
 "nbformat": 4,
 "nbformat_minor": 2
}
